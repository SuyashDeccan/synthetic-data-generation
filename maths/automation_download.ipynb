{
 "cells": [
  {
   "cell_type": "code",
   "execution_count": 5,
   "id": "91ade2f6",
   "metadata": {},
   "outputs": [
    {
     "name": "stdout",
     "output_type": "stream",
     "text": [
      "Columns in CSV: ['Research title', 'Link']\n",
      "[1/20] Downloaded → 2505.pdf\n",
      "[2/20] Downloaded → 2505.pdf\n",
      "[3/20] Downloaded → 2505.pdf\n",
      "[4/20] Downloaded → 2505.pdf\n",
      "[5/20] Downloaded → 2505.pdf\n",
      "[6/20] Downloaded → 2505.pdf\n",
      "[7/20] Downloaded → 2505.pdf\n",
      "[8/20] Downloaded → 2505.pdf\n",
      "[9/20] Downloaded → 2505.pdf\n",
      "[10/20] Downloaded → 2505.pdf\n",
      "[11/20] Downloaded → 2505.pdf\n",
      "[12/20] Downloaded → 2505.pdf\n",
      "[13/20] Downloaded → 2505.pdf\n",
      "[14/20] Downloaded → 2505.pdf\n",
      "[15/20] Downloaded → 2505.pdf\n",
      "[16/20] Downloaded → 2505.pdf\n",
      "[17/20] Downloaded → 2404.pdf\n",
      "[18/20] Downloaded → 2310.pdf\n",
      "[19/20] Downloaded → 2403.pdf\n",
      "[20/20] Downloaded → 2407.pdf\n"
     ]
    }
   ],
   "source": [
    "import os\n",
    "import argparse\n",
    "import pandas as pd\n",
    "import requests\n",
    "from urllib.parse import urlparse, unquote\n",
    "\n",
    "def download_files(\n",
    "    csv_path=\"Researchpapers_PhD_Synthetic_Data - Maths.csv\",\n",
    "    output_dir=\"docs/data\"\n",
    ") -> None:\n",
    "    \"\"\"\n",
    "    Reads a CSV with a 'Link' column and downloads each URL to output_dir,\n",
    "    saving each file with a .pdf extension.\n",
    "    \"\"\"\n",
    "    # Load CSV\n",
    "    df = pd.read_csv(csv_path)\n",
    "    # print columns for debugging\n",
    "    print(\"Columns in CSV:\", df.columns.tolist())\n",
    "    if 'Link' not in df.columns:\n",
    "        raise ValueError(\"CSV must contain a 'Link' column.\")\n",
    "\n",
    "    # Ensure output directory exists\n",
    "    os.makedirs(output_dir, exist_ok=True)\n",
    "\n",
    "    total = len(df['Link'].dropna())\n",
    "    for idx, url in enumerate(df['Link'].dropna(), start=1):\n",
    "        try:\n",
    "            # Parse URL and derive a safe filename\n",
    "            parsed = urlparse(url)\n",
    "            raw_name = os.path.basename(parsed.path)\n",
    "            raw_name = unquote(raw_name)  # decode URL-encoded characters\n",
    "\n",
    "            if raw_name:\n",
    "                name, ext = os.path.splitext(raw_name)\n",
    "                # If there's no .pdf extension, force it\n",
    "                filename = f\"{name}.pdf\" if ext.lower() != '.pdf' else raw_name\n",
    "            else:\n",
    "                filename = f\"file_{idx}.pdf\"\n",
    "\n",
    "            out_path = os.path.join(output_dir, filename)\n",
    "\n",
    "            # Stream download\n",
    "            with requests.get(url, stream=True) as r:\n",
    "                r.raise_for_status()\n",
    "                with open(out_path, 'wb') as f:\n",
    "                    for chunk in r.iter_content(chunk_size=8192):\n",
    "                        if chunk:\n",
    "                            f.write(chunk)\n",
    "\n",
    "            print(f\"[{idx}/{total}] Downloaded → {filename}\")\n",
    "\n",
    "        except Exception as e:\n",
    "            print(f\"[{idx}/{total}] FAILED  → {url}\\n    {e}\")\n",
    "\n",
    "if __name__ == \"__main__\":\n",
    "    download_files()\n"
   ]
  },
  {
   "cell_type": "code",
   "execution_count": null,
   "id": "74adb3c9",
   "metadata": {},
   "outputs": [],
   "source": []
  },
  {
   "cell_type": "code",
   "execution_count": null,
   "id": "074c53ea",
   "metadata": {},
   "outputs": [],
   "source": []
  }
 ],
 "metadata": {
  "kernelspec": {
   "display_name": "Python 3",
   "language": "python",
   "name": "python3"
  },
  "language_info": {
   "codemirror_mode": {
    "name": "ipython",
    "version": 3
   },
   "file_extension": ".py",
   "mimetype": "text/x-python",
   "name": "python",
   "nbconvert_exporter": "python",
   "pygments_lexer": "ipython3",
   "version": "3.9.6"
  }
 },
 "nbformat": 4,
 "nbformat_minor": 5
}
